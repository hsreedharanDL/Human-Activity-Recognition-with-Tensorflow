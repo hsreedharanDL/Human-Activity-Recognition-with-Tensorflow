{
  "nbformat": 4,
  "nbformat_minor": 0,
  "metadata": {
    "colab": {
      "name": "humanActivityRecognitionlstm.ipynb",
      "provenance": [],
      "collapsed_sections": [],
      "authorship_tag": "ABX9TyP/WsBBgIYHzlII5Jdntrw8",
      "include_colab_link": true
    },
    "kernelspec": {
      "display_name": "Python 3",
      "name": "python3"
    }
  },
  "cells": [
    {
      "cell_type": "markdown",
      "metadata": {
        "id": "view-in-github",
        "colab_type": "text"
      },
      "source": [
        "<a href=\"https://colab.research.google.com/github/hsreedharanDL/Human-Activity-Recognition-with-Tensorflow/blob/main/humanActivityRecognitionlstm.ipynb\" target=\"_parent\"><img src=\"https://colab.research.google.com/assets/colab-badge.svg\" alt=\"Open In Colab\"/></a>"
      ]
    },
    {
      "cell_type": "code",
      "metadata": {
        "id": "gqWabzlJ63nL"
      },
      "source": [
        "import numpy as np\n",
        "import pandas as pd\n",
        "from scipy import stats\n",
        "from sklearn.preprocessing import OneHotEncoder\n",
        "import matplotlib.pyplot as plt\n",
        "import tensorflow as tf\n",
        "from sklearn.preprocessing import RobustScaler\n",
        "keras = tf.keras"
      ],
      "execution_count": 17,
      "outputs": []
    },
    {
      "cell_type": "code",
      "metadata": {
        "colab": {
          "base_uri": "https://localhost:8080/"
        },
        "id": "yrvJhvkcoy9n",
        "outputId": "75290b61-4072-4ca1-8fca-80115f9dd5cf"
      },
      "source": [
        "!gdown --id 152sWECukjvLerrVG2NUO8gtMFg83RKCF --output WISDM_ar_latest.tar.gz\r\n",
        "!tar -xvf WISDM_ar_latest.tar.gz"
      ],
      "execution_count": 18,
      "outputs": [
        {
          "output_type": "stream",
          "text": [
            "Downloading...\n",
            "From: https://drive.google.com/uc?id=152sWECukjvLerrVG2NUO8gtMFg83RKCF\n",
            "To: /content/WISDM_ar_latest.tar.gz\n",
            "\r0.00B [00:00, ?B/s]\r11.4MB [00:00, 99.6MB/s]\n",
            "WISDM_ar_v1.1/\n",
            "WISDM_ar_v1.1/readme.txt\n",
            "WISDM_ar_v1.1/WISDM_ar_v1.1_raw.txt\n",
            "WISDM_ar_v1.1/WISDM_ar_v1.1_raw_about.txt\n",
            "WISDM_ar_v1.1/WISDM_ar_v1.1_transformed.arff\n",
            "WISDM_ar_v1.1/WISDM_ar_v1.1_trans_about.txt\n"
          ],
          "name": "stdout"
        }
      ]
    },
    {
      "cell_type": "code",
      "metadata": {
        "colab": {
          "base_uri": "https://localhost:8080/"
        },
        "id": "ljl9KOqvo3kY",
        "outputId": "d4e9eae7-0717-458f-9ed9-c49eb7077875"
      },
      "source": [
        "column_names = [\r\n",
        "  'user_id',\r\n",
        "  'activity',\r\n",
        "  'timestamp',\r\n",
        "  'x_axis',\r\n",
        "  'y_axis',\r\n",
        "  'z_axis'\r\n",
        "]\r\n",
        "df = pd.read_csv(\r\n",
        "  'WISDM_ar_v1.1/WISDM_ar_v1.1_raw.txt',\r\n",
        "  header=None,\r\n",
        "  names=column_names\r\n",
        ")\r\n",
        "df.z_axis.replace(regex=True, inplace=True, to_replace=r';', value=r'')\r\n",
        "df['z_axis'] = df.z_axis.astype(np.float64)\r\n",
        "df.dropna(axis=0, how='any', inplace=True)\r\n",
        "df.shape"
      ],
      "execution_count": 19,
      "outputs": [
        {
          "output_type": "execute_result",
          "data": {
            "text/plain": [
              "(1098203, 6)"
            ]
          },
          "metadata": {
            "tags": []
          },
          "execution_count": 19
        }
      ]
    },
    {
      "cell_type": "code",
      "metadata": {
        "id": "7LxZN8djsSz7"
      },
      "source": [
        "df_train = df[df['user_id'] <= 30]\r\n",
        "df_test = df[df['user_id'] > 30]"
      ],
      "execution_count": 20,
      "outputs": []
    },
    {
      "cell_type": "code",
      "metadata": {
        "colab": {
          "base_uri": "https://localhost:8080/"
        },
        "id": "gUK3PTX4slse",
        "outputId": "fce43266-7131-4b98-9268-35248e31cfd6"
      },
      "source": [
        "scale_columns = ['x_axis', 'y_axis', 'z_axis']\r\n",
        "scaler = RobustScaler()\r\n",
        "scaler = scaler.fit(df_train[scale_columns])\r\n",
        "df_train.loc[:, scale_columns] = scaler.transform(\r\n",
        "  df_train[scale_columns].to_numpy()\r\n",
        ")\r\n",
        "df_test.loc[:, scale_columns] = scaler.transform(\r\n",
        "  df_test[scale_columns].to_numpy()\r\n",
        ")"
      ],
      "execution_count": 21,
      "outputs": [
        {
          "output_type": "stream",
          "text": [
            "/usr/local/lib/python3.7/dist-packages/pandas/core/indexing.py:1734: SettingWithCopyWarning: \n",
            "A value is trying to be set on a copy of a slice from a DataFrame.\n",
            "Try using .loc[row_indexer,col_indexer] = value instead\n",
            "\n",
            "See the caveats in the documentation: https://pandas.pydata.org/pandas-docs/stable/user_guide/indexing.html#returning-a-view-versus-a-copy\n",
            "  isetter(loc, value[:, i].tolist())\n",
            "/usr/local/lib/python3.7/dist-packages/pandas/core/indexing.py:1734: SettingWithCopyWarning: \n",
            "A value is trying to be set on a copy of a slice from a DataFrame.\n",
            "Try using .loc[row_indexer,col_indexer] = value instead\n",
            "\n",
            "See the caveats in the documentation: https://pandas.pydata.org/pandas-docs/stable/user_guide/indexing.html#returning-a-view-versus-a-copy\n",
            "  isetter(loc, value[:, i].tolist())\n"
          ],
          "name": "stderr"
        }
      ]
    },
    {
      "cell_type": "code",
      "metadata": {
        "id": "js3QgQJss1Q2"
      },
      "source": [
        "def create_dataset(X, y, time_steps=1, step=1):\r\n",
        "    Xs, ys = [], []\r\n",
        "    for i in range(0, len(X) - time_steps, step):\r\n",
        "        v = X.iloc[i:(i + time_steps)].values\r\n",
        "        labels = y.iloc[i: i + time_steps]\r\n",
        "        Xs.append(v)\r\n",
        "        ys.append(stats.mode(labels)[0][0])\r\n",
        "    return np.array(Xs), np.array(ys).reshape(-1, 1)"
      ],
      "execution_count": 22,
      "outputs": []
    },
    {
      "cell_type": "code",
      "metadata": {
        "id": "WBcnNiyatwWz"
      },
      "source": [
        "TIME_STEPS = 200\r\n",
        "STEP = 40\r\n",
        "X_train, y_train = create_dataset(\r\n",
        "    df_train[['x_axis', 'y_axis', 'z_axis']],\r\n",
        "    df_train.activity,\r\n",
        "    TIME_STEPS,\r\n",
        "    STEP\r\n",
        ")\r\n",
        "X_test, y_test = create_dataset(\r\n",
        "    df_test[['x_axis', 'y_axis', 'z_axis']],\r\n",
        "    df_test.activity,\r\n",
        "    TIME_STEPS,\r\n",
        "    STEP\r\n",
        ")"
      ],
      "execution_count": 23,
      "outputs": []
    },
    {
      "cell_type": "code",
      "metadata": {
        "colab": {
          "base_uri": "https://localhost:8080/"
        },
        "id": "zmmRn1_Pvhnh",
        "outputId": "7fd72357-265f-4a6e-f9c5-60b0c9772c69"
      },
      "source": [
        "print(X_train.shape, y_train.shape)"
      ],
      "execution_count": 24,
      "outputs": [
        {
          "output_type": "stream",
          "text": [
            "(22454, 200, 3) (22454, 1)\n"
          ],
          "name": "stdout"
        }
      ]
    },
    {
      "cell_type": "code",
      "metadata": {
        "id": "Z_tiF02wvwl7"
      },
      "source": [
        "enc = OneHotEncoder(handle_unknown='ignore', sparse=False)\r\n",
        "enc = enc.fit(y_train)\r\n",
        "y_train = enc.transform(y_train)\r\n",
        "y_test = enc.transform(y_test)"
      ],
      "execution_count": 25,
      "outputs": []
    },
    {
      "cell_type": "code",
      "metadata": {
        "id": "oWnRPagFMAlN"
      },
      "source": [
        "from tensorflow import keras\r\n",
        "from keras.layers import Dense\r\n",
        "from tensorflow.keras import layers"
      ],
      "execution_count": 26,
      "outputs": []
    },
    {
      "cell_type": "code",
      "metadata": {
        "id": "Fv-46FmLcNMs"
      },
      "source": [
        "model = keras.Sequential()\r\n",
        "model.add(\r\n",
        "    keras.layers.Bidirectional(\r\n",
        "      keras.layers.LSTM(\r\n",
        "          units=128,\r\n",
        "          input_shape=[X_train.shape[1], X_train.shape[2]]\r\n",
        "      )\r\n",
        "    )\r\n",
        ")\r\n",
        "model.add(keras.layers.Dropout(rate=0.5))\r\n",
        "model.add(keras.layers.Dense(units=128, activation='relu'))\r\n",
        "model.add(keras.layers.Dense(y_train.shape[1], activation='softmax'))\r\n",
        "model.compile(\r\n",
        "  loss='categorical_crossentropy',\r\n",
        "  optimizer='adam',\r\n",
        "  metrics=['acc']\r\n",
        ")"
      ],
      "execution_count": 27,
      "outputs": []
    },
    {
      "cell_type": "code",
      "metadata": {
        "colab": {
          "base_uri": "https://localhost:8080/"
        },
        "id": "AkERbWMf4Eco",
        "outputId": "9098a6b5-be66-4596-f9b0-afa2c7866a33"
      },
      "source": [
        "history=model.fit(X_train, y_train, epochs=10, batch_size=32, validation_split=0.1,\r\n",
        "    shuffle=True)"
      ],
      "execution_count": 28,
      "outputs": [
        {
          "output_type": "stream",
          "text": [
            "Epoch 1/10\n",
            "632/632 [==============================] - 188s 291ms/step - loss: 1.1820 - acc: 0.5943 - val_loss: 1.1595 - val_acc: 0.5766\n",
            "Epoch 2/10\n",
            "632/632 [==============================] - 180s 285ms/step - loss: 0.9284 - acc: 0.6950 - val_loss: 1.1846 - val_acc: 0.6465\n",
            "Epoch 3/10\n",
            "632/632 [==============================] - 181s 286ms/step - loss: 0.7879 - acc: 0.7293 - val_loss: 0.6701 - val_acc: 0.7654\n",
            "Epoch 4/10\n",
            "632/632 [==============================] - 180s 284ms/step - loss: 0.7551 - acc: 0.7360 - val_loss: 0.6431 - val_acc: 0.8344\n",
            "Epoch 5/10\n",
            "632/632 [==============================] - 181s 286ms/step - loss: 0.5688 - acc: 0.7953 - val_loss: 0.4860 - val_acc: 0.8495\n",
            "Epoch 6/10\n",
            "632/632 [==============================] - 182s 287ms/step - loss: 0.7392 - acc: 0.7457 - val_loss: 0.7916 - val_acc: 0.7605\n",
            "Epoch 7/10\n",
            "632/632 [==============================] - 181s 286ms/step - loss: 0.8874 - acc: 0.6787 - val_loss: 0.7810 - val_acc: 0.6852\n",
            "Epoch 8/10\n",
            "632/632 [==============================] - 181s 286ms/step - loss: 0.7651 - acc: 0.7247 - val_loss: 1.0445 - val_acc: 0.6558\n",
            "Epoch 9/10\n",
            "632/632 [==============================] - 180s 284ms/step - loss: 0.9407 - acc: 0.6678 - val_loss: 0.6773 - val_acc: 0.7738\n",
            "Epoch 10/10\n",
            "632/632 [==============================] - 181s 287ms/step - loss: 0.6860 - acc: 0.7500 - val_loss: 0.5181 - val_acc: 0.8464\n"
          ],
          "name": "stdout"
        }
      ]
    },
    {
      "cell_type": "code",
      "metadata": {
        "colab": {
          "base_uri": "https://localhost:8080/"
        },
        "id": "z1c1zQRcZ_vM",
        "outputId": "ccded812-8c26-403b-9dbe-8649c744f3c2"
      },
      "source": [
        "model.evaluate(X_test, y_test)"
      ],
      "execution_count": 29,
      "outputs": [
        {
          "output_type": "stream",
          "text": [
            "156/156 [==============================] - 11s 68ms/step - loss: 0.6191 - acc: 0.8123\n"
          ],
          "name": "stdout"
        },
        {
          "output_type": "execute_result",
          "data": {
            "text/plain": [
              "[0.6191031336784363, 0.8122996687889099]"
            ]
          },
          "metadata": {
            "tags": []
          },
          "execution_count": 29
        }
      ]
    },
    {
      "cell_type": "code",
      "metadata": {
        "id": "INxCYvl0m6-l"
      },
      "source": [
        "y_pred = model.predict(X_test)"
      ],
      "execution_count": 30,
      "outputs": []
    }
  ]
}